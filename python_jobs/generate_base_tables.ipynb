{
 "cells": [
  {
   "cell_type": "code",
   "execution_count": 1,
   "id": "9d504e06-fc93-4f88-bf90-32dd24fa08f7",
   "metadata": {},
   "outputs": [],
   "source": [
    "import pandas as pd\n",
    "import numpy as np"
   ]
  },
  {
   "cell_type": "code",
   "execution_count": 2,
   "id": "99a8214e-9049-4f35-acfd-28d7a0fa0da2",
   "metadata": {},
   "outputs": [],
   "source": [
    "import os"
   ]
  },
  {
   "cell_type": "code",
   "execution_count": 3,
   "id": "27c66ab8-758a-47e0-80de-3a7c42313f83",
   "metadata": {},
   "outputs": [
    {
     "name": "stdout",
     "output_type": "stream",
     "text": [
      "utils imported\n"
     ]
    }
   ],
   "source": [
    "import orquest_csv_utils as ocu"
   ]
  },
  {
   "cell_type": "code",
   "execution_count": 4,
   "id": "1f73b243-a8d1-4f7e-a105-68643d7e5c04",
   "metadata": {},
   "outputs": [],
   "source": [
    "# Get raw data from all tables. Some data types are understood by Pandas as they arrive.\n",
    "associations_raw = pd.read_csv('associations.csv', delimiter=';', dtype=ocu.dftypes['associations'])\n",
    "contracts_raw = pd.read_csv('contracts.csv', delimiter=';', dtype=ocu.dftypes['contracts'])\n",
    "hours_raw = pd.read_csv('hours.csv', delimiter=';', dtype=ocu.dftypes['hours'])\n",
    "incidences_raw = pd.read_csv('incidences.csv', delimiter=';', dtype=ocu.dftypes['incidences'])\n",
    "measures_raw = pd.read_csv('measures.csv', delimiter=';', dtype=ocu.dftypes['measures'])"
   ]
  },
  {
   "cell_type": "code",
   "execution_count": 5,
   "id": "02c00c9b-38ba-44db-af63-55f4d4e26fb2",
   "metadata": {},
   "outputs": [
    {
     "data": {
      "text/html": [
       "<div>\n",
       "<style scoped>\n",
       "    .dataframe tbody tr th:only-of-type {\n",
       "        vertical-align: middle;\n",
       "    }\n",
       "\n",
       "    .dataframe tbody tr th {\n",
       "        vertical-align: top;\n",
       "    }\n",
       "\n",
       "    .dataframe thead th {\n",
       "        text-align: right;\n",
       "    }\n",
       "</style>\n",
       "<table border=\"1\" class=\"dataframe\">\n",
       "  <thead>\n",
       "    <tr style=\"text-align: right;\">\n",
       "      <th></th>\n",
       "      <th>person_id</th>\n",
       "      <th>from_date</th>\n",
       "      <th>to_date</th>\n",
       "      <th>store_id</th>\n",
       "    </tr>\n",
       "  </thead>\n",
       "  <tbody>\n",
       "    <tr>\n",
       "      <th>0</th>\n",
       "      <td>665917</td>\n",
       "      <td>2017-06-02</td>\n",
       "      <td>2021-04-30</td>\n",
       "      <td>1</td>\n",
       "    </tr>\n",
       "    <tr>\n",
       "      <th>1</th>\n",
       "      <td>665917</td>\n",
       "      <td>2023-07-01</td>\n",
       "      <td>2024-03-31</td>\n",
       "      <td>1</td>\n",
       "    </tr>\n",
       "    <tr>\n",
       "      <th>2</th>\n",
       "      <td>665917</td>\n",
       "      <td>2021-05-01</td>\n",
       "      <td>2023-06-30</td>\n",
       "      <td>1</td>\n",
       "    </tr>\n",
       "    <tr>\n",
       "      <th>3</th>\n",
       "      <td>665919</td>\n",
       "      <td>2008-10-01</td>\n",
       "      <td>2023-09-30</td>\n",
       "      <td>1</td>\n",
       "    </tr>\n",
       "    <tr>\n",
       "      <th>4</th>\n",
       "      <td>665922</td>\n",
       "      <td>2008-10-01</td>\n",
       "      <td>NaN</td>\n",
       "      <td>1</td>\n",
       "    </tr>\n",
       "  </tbody>\n",
       "</table>\n",
       "</div>"
      ],
      "text/plain": [
       "   person_id   from_date     to_date  store_id\n",
       "0     665917  2017-06-02  2021-04-30         1\n",
       "1     665917  2023-07-01  2024-03-31         1\n",
       "2     665917  2021-05-01  2023-06-30         1\n",
       "3     665919  2008-10-01  2023-09-30         1\n",
       "4     665922  2008-10-01         NaN         1"
      ]
     },
     "execution_count": 5,
     "metadata": {},
     "output_type": "execute_result"
    }
   ],
   "source": [
    "associations_raw.head()"
   ]
  },
  {
   "cell_type": "code",
   "execution_count": 6,
   "id": "0d384daa-ec3b-458c-bc7f-0d48a99a75a2",
   "metadata": {},
   "outputs": [
    {
     "name": "stdout",
     "output_type": "stream",
     "text": [
      "associations\n",
      "dict_keys(['measures', 'hours', 'contracts', 'associations', 'incidences'])\n",
      "contracts\n",
      "dict_keys(['measures', 'hours', 'contracts', 'associations', 'incidences'])\n",
      "hours\n",
      "dict_keys(['measures', 'hours', 'contracts', 'associations', 'incidences'])\n",
      "incidences\n",
      "dict_keys(['measures', 'hours', 'contracts', 'associations', 'incidences'])\n",
      "measures\n",
      "dict_keys(['measures', 'hours', 'contracts', 'associations', 'incidences'])\n"
     ]
    }
   ],
   "source": [
    "# Perform explicit type casts for the columns that can't be directly converted by Pandas.\n",
    "\n",
    "df_names =  [{'associations':associations_raw},\n",
    "       {'contracts':contracts_raw},\n",
    "       {'hours':hours_raw},\n",
    "       {'incidences':incidences_raw},\n",
    "       {'measures':measures_raw}\n",
    "      ]\n",
    "\n",
    "for df_dict in df_names:\n",
    "    current_name = list(df_dict.keys())[0]\n",
    "    print(current_name)\n",
    "    df = df_dict[current_name]\n",
    "    print(ocu.tcasts.keys())\n",
    "    for col in df.columns:\n",
    "           if col in ocu.tcasts[current_name].keys():\n",
    "               match ocu.tcasts[current_name][col]:\n",
    "                   case 'decimal_with_comma':\n",
    "                       ocu.cast_comma_decimal_as_float(df,col)\n",
    "                   case 'dmy_hm_datetime':\n",
    "                       ocu.cast_d_m_y_h_m_as_datetime(df,col)\n",
    "                   case 'ymd_datetime':\n",
    "                       ocu.cast_y_m_d_as_datetime(df,col)"
   ]
  },
  {
   "cell_type": "code",
   "execution_count": 7,
   "id": "b73ae9be-4fbb-4fc0-ba96-53cbc668761e",
   "metadata": {},
   "outputs": [],
   "source": [
    "associations_raw.to_csv('associations_rich.csv',index=False)\n",
    "contracts_raw.to_csv('contracts_rich.csv',index=False)\n",
    "hours_raw.to_csv('hours_rich.csv',index=False)\n",
    "incidences_raw.to_csv('incidences_rich.csv',index=False)\n",
    "measures_raw.to_csv('measures_rich.csv',index=False)\n"
   ]
  }
 ],
 "metadata": {
  "kernelspec": {
   "display_name": "Python 3 (ipykernel)",
   "language": "python",
   "name": "python3"
  },
  "language_info": {
   "codemirror_mode": {
    "name": "ipython",
    "version": 3
   },
   "file_extension": ".py",
   "mimetype": "text/x-python",
   "name": "python",
   "nbconvert_exporter": "python",
   "pygments_lexer": "ipython3",
   "version": "3.11.9"
  }
 },
 "nbformat": 4,
 "nbformat_minor": 5
}
