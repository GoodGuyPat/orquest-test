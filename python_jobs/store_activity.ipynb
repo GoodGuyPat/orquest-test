{
 "cells": [
  {
   "cell_type": "code",
   "execution_count": 19,
   "id": "9d504e06-fc93-4f88-bf90-32dd24fa08f7",
   "metadata": {},
   "outputs": [
    {
     "name": "stdout",
     "output_type": "stream",
     "text": [
      "utils imported\n"
     ]
    }
   ],
   "source": [
    "import pandas as pd\n",
    "import numpy as np\n",
    "import orquest_csv_utils as ocu"
   ]
  },
  {
   "cell_type": "code",
   "execution_count": 21,
   "id": "b73a73e0-b001-45c0-80d4-f684c940685f",
   "metadata": {},
   "outputs": [
    {
     "data": {
      "text/plain": [
       "measure     object\n",
       "date        object\n",
       "value       object\n",
       "store_id     int32\n",
       "dtype: object"
      ]
     },
     "execution_count": 21,
     "metadata": {},
     "output_type": "execute_result"
    }
   ],
   "source": [
    "# Load relevant data\n",
    "measures = pd.read_csv('measures_rich.csv', dtype=ocu.dftypes['measures'])\n",
    "df = df_dict[current_name]\n",
    "for col in df.columns:\n",
    "   if col in ocu.tcasts[current_name].keys():\n",
    "       match ocu.tcasts[current_name][col]:\n",
    "           case 'decimal_with_comma':\n",
    "               ocu.cast_comma_decimal_as_float(df,col)\n",
    "           case 'dmy_hm_datetime':\n",
    "               ocu.cast_d_m_y_h_m_as_datetime(df,col)\n",
    "           case 'ymd_datetime':\n",
    "               ocu.cast_y_m_d_as_datetime(df,col)\n",
    "measures.dtypes"
   ]
  },
  {
   "cell_type": "code",
   "execution_count": 17,
   "id": "c120bff9-c492-4d68-ad18-8acc0dfb7bce",
   "metadata": {},
   "outputs": [
    {
     "ename": "AttributeError",
     "evalue": "Can only use .dt accessor with datetimelike values",
     "output_type": "error",
     "traceback": [
      "\u001b[0;31m---------------------------------------------------------------------------\u001b[0m",
      "\u001b[0;31mAttributeError\u001b[0m                            Traceback (most recent call last)",
      "Cell \u001b[0;32mIn[17], line 2\u001b[0m\n\u001b[1;32m      1\u001b[0m \u001b[38;5;66;03m# Split datetime into date and time\u001b[39;00m\n\u001b[0;32m----> 2\u001b[0m measures[\u001b[38;5;124m'\u001b[39m\u001b[38;5;124mtime\u001b[39m\u001b[38;5;124m'\u001b[39m] \u001b[38;5;241m=\u001b[39m \u001b[43mmeasures\u001b[49m\u001b[43m[\u001b[49m\u001b[38;5;124;43m'\u001b[39;49m\u001b[38;5;124;43mdate\u001b[39;49m\u001b[38;5;124;43m'\u001b[39;49m\u001b[43m]\u001b[49m\u001b[38;5;241;43m.\u001b[39;49m\u001b[43mdt\u001b[49m\u001b[38;5;241m.\u001b[39mtime\n\u001b[1;32m      3\u001b[0m measures\n",
      "File \u001b[0;32m~/orquest-test/orquest_env/lib/python3.11/site-packages/pandas/core/generic.py:6299\u001b[0m, in \u001b[0;36mNDFrame.__getattr__\u001b[0;34m(self, name)\u001b[0m\n\u001b[1;32m   6292\u001b[0m \u001b[38;5;28;01mif\u001b[39;00m (\n\u001b[1;32m   6293\u001b[0m     name \u001b[38;5;129;01mnot\u001b[39;00m \u001b[38;5;129;01min\u001b[39;00m \u001b[38;5;28mself\u001b[39m\u001b[38;5;241m.\u001b[39m_internal_names_set\n\u001b[1;32m   6294\u001b[0m     \u001b[38;5;129;01mand\u001b[39;00m name \u001b[38;5;129;01mnot\u001b[39;00m \u001b[38;5;129;01min\u001b[39;00m \u001b[38;5;28mself\u001b[39m\u001b[38;5;241m.\u001b[39m_metadata\n\u001b[1;32m   6295\u001b[0m     \u001b[38;5;129;01mand\u001b[39;00m name \u001b[38;5;129;01mnot\u001b[39;00m \u001b[38;5;129;01min\u001b[39;00m \u001b[38;5;28mself\u001b[39m\u001b[38;5;241m.\u001b[39m_accessors\n\u001b[1;32m   6296\u001b[0m     \u001b[38;5;129;01mand\u001b[39;00m \u001b[38;5;28mself\u001b[39m\u001b[38;5;241m.\u001b[39m_info_axis\u001b[38;5;241m.\u001b[39m_can_hold_identifiers_and_holds_name(name)\n\u001b[1;32m   6297\u001b[0m ):\n\u001b[1;32m   6298\u001b[0m     \u001b[38;5;28;01mreturn\u001b[39;00m \u001b[38;5;28mself\u001b[39m[name]\n\u001b[0;32m-> 6299\u001b[0m \u001b[38;5;28;01mreturn\u001b[39;00m \u001b[38;5;28;43mobject\u001b[39;49m\u001b[38;5;241;43m.\u001b[39;49m\u001b[38;5;21;43m__getattribute__\u001b[39;49m\u001b[43m(\u001b[49m\u001b[38;5;28;43mself\u001b[39;49m\u001b[43m,\u001b[49m\u001b[43m \u001b[49m\u001b[43mname\u001b[49m\u001b[43m)\u001b[49m\n",
      "File \u001b[0;32m~/orquest-test/orquest_env/lib/python3.11/site-packages/pandas/core/accessor.py:224\u001b[0m, in \u001b[0;36mCachedAccessor.__get__\u001b[0;34m(self, obj, cls)\u001b[0m\n\u001b[1;32m    221\u001b[0m \u001b[38;5;28;01mif\u001b[39;00m obj \u001b[38;5;129;01mis\u001b[39;00m \u001b[38;5;28;01mNone\u001b[39;00m:\n\u001b[1;32m    222\u001b[0m     \u001b[38;5;66;03m# we're accessing the attribute of the class, i.e., Dataset.geo\u001b[39;00m\n\u001b[1;32m    223\u001b[0m     \u001b[38;5;28;01mreturn\u001b[39;00m \u001b[38;5;28mself\u001b[39m\u001b[38;5;241m.\u001b[39m_accessor\n\u001b[0;32m--> 224\u001b[0m accessor_obj \u001b[38;5;241m=\u001b[39m \u001b[38;5;28;43mself\u001b[39;49m\u001b[38;5;241;43m.\u001b[39;49m\u001b[43m_accessor\u001b[49m\u001b[43m(\u001b[49m\u001b[43mobj\u001b[49m\u001b[43m)\u001b[49m\n\u001b[1;32m    225\u001b[0m \u001b[38;5;66;03m# Replace the property with the accessor object. Inspired by:\u001b[39;00m\n\u001b[1;32m    226\u001b[0m \u001b[38;5;66;03m# https://www.pydanny.com/cached-property.html\u001b[39;00m\n\u001b[1;32m    227\u001b[0m \u001b[38;5;66;03m# We need to use object.__setattr__ because we overwrite __setattr__ on\u001b[39;00m\n\u001b[1;32m    228\u001b[0m \u001b[38;5;66;03m# NDFrame\u001b[39;00m\n\u001b[1;32m    229\u001b[0m \u001b[38;5;28mobject\u001b[39m\u001b[38;5;241m.\u001b[39m\u001b[38;5;21m__setattr__\u001b[39m(obj, \u001b[38;5;28mself\u001b[39m\u001b[38;5;241m.\u001b[39m_name, accessor_obj)\n",
      "File \u001b[0;32m~/orquest-test/orquest_env/lib/python3.11/site-packages/pandas/core/indexes/accessors.py:643\u001b[0m, in \u001b[0;36mCombinedDatetimelikeProperties.__new__\u001b[0;34m(cls, data)\u001b[0m\n\u001b[1;32m    640\u001b[0m \u001b[38;5;28;01melif\u001b[39;00m \u001b[38;5;28misinstance\u001b[39m(data\u001b[38;5;241m.\u001b[39mdtype, PeriodDtype):\n\u001b[1;32m    641\u001b[0m     \u001b[38;5;28;01mreturn\u001b[39;00m PeriodProperties(data, orig)\n\u001b[0;32m--> 643\u001b[0m \u001b[38;5;28;01mraise\u001b[39;00m \u001b[38;5;167;01mAttributeError\u001b[39;00m(\u001b[38;5;124m\"\u001b[39m\u001b[38;5;124mCan only use .dt accessor with datetimelike values\u001b[39m\u001b[38;5;124m\"\u001b[39m)\n",
      "\u001b[0;31mAttributeError\u001b[0m: Can only use .dt accessor with datetimelike values"
     ]
    }
   ],
   "source": [
    "# Split datetime into date and time\n",
    "measures['time'] = measures['date'].dt.time\n",
    "measures"
   ]
  },
  {
   "cell_type": "code",
   "execution_count": 15,
   "id": "812d323f-9a9a-4204-aacb-7015cb049e83",
   "metadata": {},
   "outputs": [],
   "source": [
    "measures_split = measures.pivot_table(index=['date','store_id'],columns='measure',aggfunc='sum')"
   ]
  },
  {
   "cell_type": "code",
   "execution_count": 16,
   "id": "d1caa1b7-e226-492e-a0ce-8a60d1398a6b",
   "metadata": {},
   "outputs": [
    {
     "data": {
      "text/html": [
       "<div>\n",
       "<style scoped>\n",
       "    .dataframe tbody tr th:only-of-type {\n",
       "        vertical-align: middle;\n",
       "    }\n",
       "\n",
       "    .dataframe tbody tr th {\n",
       "        vertical-align: top;\n",
       "    }\n",
       "\n",
       "    .dataframe thead tr th {\n",
       "        text-align: left;\n",
       "    }\n",
       "\n",
       "    .dataframe thead tr:last-of-type th {\n",
       "        text-align: right;\n",
       "    }\n",
       "</style>\n",
       "<table border=\"1\" class=\"dataframe\">\n",
       "  <thead>\n",
       "    <tr>\n",
       "      <th></th>\n",
       "      <th></th>\n",
       "      <th colspan=\"3\" halign=\"left\">value</th>\n",
       "    </tr>\n",
       "    <tr>\n",
       "      <th></th>\n",
       "      <th>measure</th>\n",
       "      <th>FOOTFALL</th>\n",
       "      <th>SALES</th>\n",
       "      <th>TICKETS</th>\n",
       "    </tr>\n",
       "    <tr>\n",
       "      <th>date</th>\n",
       "      <th>store_id</th>\n",
       "      <th></th>\n",
       "      <th></th>\n",
       "      <th></th>\n",
       "    </tr>\n",
       "  </thead>\n",
       "  <tbody>\n",
       "    <tr>\n",
       "      <th>2023-11-01 10:00:00</th>\n",
       "      <th>2</th>\n",
       "      <td>33.0</td>\n",
       "      <td>277.860</td>\n",
       "      <td>8.0</td>\n",
       "    </tr>\n",
       "    <tr>\n",
       "      <th>2023-11-01 10:30:00</th>\n",
       "      <th>2</th>\n",
       "      <td>33.0</td>\n",
       "      <td>277.860</td>\n",
       "      <td>8.0</td>\n",
       "    </tr>\n",
       "    <tr>\n",
       "      <th>2023-11-01 11:00:00</th>\n",
       "      <th>2</th>\n",
       "      <td>89.0</td>\n",
       "      <td>743.090</td>\n",
       "      <td>24.0</td>\n",
       "    </tr>\n",
       "    <tr>\n",
       "      <th>2023-11-01 11:30:00</th>\n",
       "      <th>2</th>\n",
       "      <td>89.0</td>\n",
       "      <td>743.090</td>\n",
       "      <td>24.0</td>\n",
       "    </tr>\n",
       "    <tr>\n",
       "      <th>2023-11-01 12:00:00</th>\n",
       "      <th>2</th>\n",
       "      <td>161.0</td>\n",
       "      <td>1000.845</td>\n",
       "      <td>42.0</td>\n",
       "    </tr>\n",
       "    <tr>\n",
       "      <th>...</th>\n",
       "      <th>...</th>\n",
       "      <td>...</td>\n",
       "      <td>...</td>\n",
       "      <td>...</td>\n",
       "    </tr>\n",
       "    <tr>\n",
       "      <th>2024-01-31 20:00:00</th>\n",
       "      <th>2</th>\n",
       "      <td>60.0</td>\n",
       "      <td>233.615</td>\n",
       "      <td>19.0</td>\n",
       "    </tr>\n",
       "    <tr>\n",
       "      <th>2024-01-31 20:30:00</th>\n",
       "      <th>2</th>\n",
       "      <td>60.0</td>\n",
       "      <td>233.615</td>\n",
       "      <td>19.0</td>\n",
       "    </tr>\n",
       "    <tr>\n",
       "      <th>2024-01-31 21:00:00</th>\n",
       "      <th>2</th>\n",
       "      <td>16.0</td>\n",
       "      <td>62.370</td>\n",
       "      <td>4.0</td>\n",
       "    </tr>\n",
       "    <tr>\n",
       "      <th>2024-01-31 21:30:00</th>\n",
       "      <th>2</th>\n",
       "      <td>16.0</td>\n",
       "      <td>62.370</td>\n",
       "      <td>4.0</td>\n",
       "    </tr>\n",
       "    <tr>\n",
       "      <th>2024-01-31 22:00:00</th>\n",
       "      <th>2</th>\n",
       "      <td>16.0</td>\n",
       "      <td>62.370</td>\n",
       "      <td>4.0</td>\n",
       "    </tr>\n",
       "  </tbody>\n",
       "</table>\n",
       "<p>3834 rows × 3 columns</p>\n",
       "</div>"
      ],
      "text/plain": [
       "                                value                  \n",
       "measure                      FOOTFALL     SALES TICKETS\n",
       "date                store_id                           \n",
       "2023-11-01 10:00:00 2            33.0   277.860     8.0\n",
       "2023-11-01 10:30:00 2            33.0   277.860     8.0\n",
       "2023-11-01 11:00:00 2            89.0   743.090    24.0\n",
       "2023-11-01 11:30:00 2            89.0   743.090    24.0\n",
       "2023-11-01 12:00:00 2           161.0  1000.845    42.0\n",
       "...                               ...       ...     ...\n",
       "2024-01-31 20:00:00 2            60.0   233.615    19.0\n",
       "2024-01-31 20:30:00 2            60.0   233.615    19.0\n",
       "2024-01-31 21:00:00 2            16.0    62.370     4.0\n",
       "2024-01-31 21:30:00 2            16.0    62.370     4.0\n",
       "2024-01-31 22:00:00 2            16.0    62.370     4.0\n",
       "\n",
       "[3834 rows x 3 columns]"
      ]
     },
     "execution_count": 16,
     "metadata": {},
     "output_type": "execute_result"
    }
   ],
   "source": [
    "measures_split"
   ]
  },
  {
   "cell_type": "code",
   "execution_count": null,
   "id": "e0594b7c-9c3d-4d74-bbed-549323373bd1",
   "metadata": {},
   "outputs": [],
   "source": []
  }
 ],
 "metadata": {
  "kernelspec": {
   "display_name": "Python 3 (ipykernel)",
   "language": "python",
   "name": "python3"
  },
  "language_info": {
   "codemirror_mode": {
    "name": "ipython",
    "version": 3
   },
   "file_extension": ".py",
   "mimetype": "text/x-python",
   "name": "python",
   "nbconvert_exporter": "python",
   "pygments_lexer": "ipython3",
   "version": "3.11.8"
  }
 },
 "nbformat": 4,
 "nbformat_minor": 5
}
