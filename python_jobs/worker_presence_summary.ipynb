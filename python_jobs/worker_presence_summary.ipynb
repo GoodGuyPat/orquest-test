{
 "cells": [
  {
   "cell_type": "code",
   "execution_count": 1,
   "id": "b6649277-1807-4465-a5f9-fba2ec067129",
   "metadata": {},
   "outputs": [],
   "source": [
    "import pandas as pd\n",
    "import numpy as np"
   ]
  },
  {
   "cell_type": "code",
   "execution_count": 2,
   "id": "a4ad21be-3ad3-4fd4-9e77-21f3cb2aeb00",
   "metadata": {},
   "outputs": [],
   "source": [
    "work_calendar = pd.read_csv('work_cal_incidences.csv')\n",
    "work_calendar['absence_type'] = work_calendar['absence_type'].fillna('no_ausente')\n"
   ]
  },
  {
   "cell_type": "code",
   "execution_count": 3,
   "id": "437e0585-7a03-4ad2-a322-9a17244169c6",
   "metadata": {},
   "outputs": [],
   "source": [
    "wc2 = work_calendar.pivot_table(index='person_id',columns='absence_type', values='day', aggfunc='count', fill_value='')"
   ]
  },
  {
   "cell_type": "code",
   "execution_count": 4,
   "id": "cc344aff-9508-4faa-a3d5-2b8261e5e690",
   "metadata": {},
   "outputs": [],
   "source": [
    "wc2.to_csv('worker_attendance_summary.csv',index=True)"
   ]
  }
 ],
 "metadata": {
  "kernelspec": {
   "display_name": "Python 3 (ipykernel)",
   "language": "python",
   "name": "python3"
  },
  "language_info": {
   "codemirror_mode": {
    "name": "ipython",
    "version": 3
   },
   "file_extension": ".py",
   "mimetype": "text/x-python",
   "name": "python",
   "nbconvert_exporter": "python",
   "pygments_lexer": "ipython3",
   "version": "3.11.8"
  }
 },
 "nbformat": 4,
 "nbformat_minor": 5
}
